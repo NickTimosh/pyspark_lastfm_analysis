{
  "cells": [
    {
      "cell_type": "markdown",
      "metadata": {
        "id": "1qjxvGUSBfiC"
      },
      "source": [
        "# Importing Data"
      ]
    },
    {
      "cell_type": "code",
      "execution_count": null,
      "metadata": {
        "id": "nzoNyS2QBaLc"
      },
      "outputs": [],
      "source": [
        "!pip install pyspark"
      ]
    },
    {
      "cell_type": "code",
      "execution_count": 83,
      "metadata": {
        "id": "KiJ1k-_WDQet"
      },
      "outputs": [],
      "source": [
        "from pyspark.sql import SparkSession\n",
        "from pyspark.sql.functions import count, desc, col, max, struct, desc, row_number\n",
        "from pyspark.sql.window import Window\n",
        "import matplotlib.pyplot as plt\n",
        "import matplotlib.ticker as mticker"
      ]
    },
    {
      "cell_type": "code",
      "execution_count": null,
      "metadata": {
        "id": "9YCc0RXeDosP"
      },
      "outputs": [],
      "source": [
        "spark = SparkSession.builder.appName('spark_app').getOrCreate()"
      ]
    },
    {
      "cell_type": "code",
      "execution_count": null,
      "metadata": {
        "id": "YZSUwVhgEEtq"
      },
      "outputs": [],
      "source": [
        "listening_csv_path = '/content/drive/MyDrive/work/Colab/dataset/listenings.csv'\n",
        "genre_csv_path = '/content/drive/MyDrive/work/Colab/dataset/genre.csv'"
      ]
    },
    {
      "cell_type": "code",
      "execution_count": null,
      "metadata": {
        "id": "C6gZrLIVEYvY"
      },
      "outputs": [],
      "source": [
        "listening_df = spark.read.format('csv').option('inferSchema', True).option('header', True).load(listening_csv_path)\n",
        "genre_df = spark.read.format('csv').option('inferSchema', True).option('header', True).load(genre_csv_path)"
      ]
    },
    {
      "cell_type": "code",
      "execution_count": null,
      "metadata": {
        "colab": {
          "base_uri": "https://localhost:8080/"
        },
        "id": "1CeE1N-eFCny",
        "outputId": "4c0f46d4-b996-4e0c-dd1a-2a89854f99b4"
      },
      "outputs": [
        {
          "name": "stdout",
          "output_type": "stream",
          "text": [
            "+-----------+-------------+--------------------+---------------+--------------------+\n",
            "|    user_id|         date|               track|         artist|               album|\n",
            "+-----------+-------------+--------------------+---------------+--------------------+\n",
            "|000Silenced|1299680100000|           Price Tag|       Jessie J|         Who You Are|\n",
            "|000Silenced|1299679920000|Price Tag (Acoust...|       Jessie J|           Price Tag|\n",
            "|000Silenced|1299679440000|Be Mine! (Ballad ...|          Robyn|            Be Mine!|\n",
            "|000Silenced|1299679200000|            Acapella|          Kelis|            Acapella|\n",
            "|000Silenced|1299675660000|   I'm Not Invisible|      The Tease|   I'm Not Invisible|\n",
            "|000Silenced|1297511400000|Bounce (Feat NORE...|       MSTRKRFT|         Fist of God|\n",
            "|000Silenced|1294498440000|Don't Stop The Mu...|        Rihanna|Addicted 2 Bassli...|\n",
            "|000Silenced|1292438340000|               ObZen|      Meshuggah|               ObZen|\n",
            "|000Silenced|1292437740000|   Yama's Messengers|         Gojira|The Way of All Flesh|\n",
            "|000Silenced|1292436360000|On the Brink of E...|   Napalm Death|Time Waits For No...|\n",
            "|000Silenced|1292436360000|On the Brink of E...|   Napalm Death|Time Waits For No...|\n",
            "|000Silenced|1292435940000|        In Deference|   Napalm Death|      Smear Campaign|\n",
            "|000Silenced|1292434920000|      Post(?)organic|    Decapitated|Organic Hallucinosis|\n",
            "|000Silenced|1292434560000|        Mind Feeders|   Dom & Roland| No Strings Attached|\n",
            "|000Silenced|1292434320000|Necrosadistic War...|Cannibal Corpse|                Kill|\n",
            "|000Silenced|1292365560000|     Dance All Night|   Dom & Roland|          Chronology|\n",
            "|000Silenced|1292365260000|          Late Night|   Dom & Roland|          Chronology|\n",
            "|000Silenced|1292365020000|          Freak Seen|   Dom & Roland|          Chronology|\n",
            "|000Silenced|1292364720000|Paradrenasite (Hi...|   Dom & Roland|          Chronology|\n",
            "|000Silenced|1292364300000|               Rhino|   Dom & Roland|          Chronology|\n",
            "+-----------+-------------+--------------------+---------------+--------------------+\n",
            "only showing top 20 rows\n",
            "\n"
          ]
        }
      ],
      "source": [
        "listening_df.show()"
      ]
    },
    {
      "cell_type": "code",
      "execution_count": null,
      "metadata": {
        "colab": {
          "base_uri": "https://localhost:8080/"
        },
        "id": "M7ppkWAcFHxm",
        "outputId": "716b4fc0-b56a-4de7-9cf8-9b634f678af4"
      },
      "outputs": [
        {
          "name": "stdout",
          "output_type": "stream",
          "text": [
            "+--------------------+-----+\n",
            "|              artist|genre|\n",
            "+--------------------+-----+\n",
            "|                Muse| rock|\n",
            "|             Nirvana| rock|\n",
            "|            Bon Jovi| rock|\n",
            "|          The Police| rock|\n",
            "|                Kiss| rock|\n",
            "|       Guns N' Roses| rock|\n",
            "|         Rusted Root| rock|\n",
            "|Katrina and the W...|  pop|\n",
            "|         The Beatles| rock|\n",
            "|        Hall & Oates|  pop|\n",
            "|        Otis Redding| soul|\n",
            "|         Marvin Gaye| soul|\n",
            "|     The Cranberries| rock|\n",
            "|            Survivor| rock|\n",
            "|       Fleetwood Mac|blues|\n",
            "|           Radiohead| rock|\n",
            "|                Toto| rock|\n",
            "|                  U2| rock|\n",
            "|Creedence Clearwa...| rock|\n",
            "|                 REM| rock|\n",
            "+--------------------+-----+\n",
            "only showing top 20 rows\n",
            "\n"
          ]
        }
      ],
      "source": [
        "genre_df.show()"
      ]
    },
    {
      "cell_type": "markdown",
      "metadata": {
        "id": "_I5ibTS8FOMa"
      },
      "source": [
        "# Exploring Artists and Users"
      ]
    },
    {
      "cell_type": "code",
      "execution_count": null,
      "metadata": {
        "colab": {
          "base_uri": "https://localhost:8080/"
        },
        "id": "HdBvdQ4QFNbD",
        "outputId": "16d46405-4539-4a18-f4b3-27b435d12084"
      },
      "outputs": [
        {
          "name": "stdout",
          "output_type": "stream",
          "text": [
            "root\n",
            " |-- user_id: string (nullable = true)\n",
            " |-- track: string (nullable = true)\n",
            " |-- artist: string (nullable = true)\n",
            " |-- album: string (nullable = true)\n",
            "\n"
          ]
        }
      ],
      "source": [
        "listening_df = listening_df.drop('date')\n",
        "listening_df = listening_df.na.drop()\n",
        "listening_df.printSchema()"
      ]
    },
    {
      "cell_type": "code",
      "execution_count": null,
      "metadata": {
        "colab": {
          "base_uri": "https://localhost:8080/"
        },
        "id": "cHMidk9zF_aK",
        "outputId": "eec63e1d-9309-4e30-d11e-e81f06f1b609"
      },
      "outputs": [
        {
          "name": "stdout",
          "output_type": "stream",
          "text": [
            "(13758905, 4)\n"
          ]
        }
      ],
      "source": [
        "lisntening_df_shape = (listening_df.count(), len(listening_df.columns))\n",
        "print(lisntening_df_shape)"
      ]
    },
    {
      "cell_type": "code",
      "execution_count": null,
      "metadata": {
        "colab": {
          "base_uri": "https://localhost:8080/"
        },
        "id": "PFVh2FQvHnoG",
        "outputId": "4ff90e53-bfc3-42f6-d465-1fb4c305fb63"
      },
      "outputs": [
        {
          "name": "stdout",
          "output_type": "stream",
          "text": [
            "+-----------+--------------------+---------------+--------------------+\n",
            "|    user_id|               track|         artist|               album|\n",
            "+-----------+--------------------+---------------+--------------------+\n",
            "|000Silenced|           Price Tag|       Jessie J|         Who You Are|\n",
            "|000Silenced|Price Tag (Acoust...|       Jessie J|           Price Tag|\n",
            "|000Silenced|Be Mine! (Ballad ...|          Robyn|            Be Mine!|\n",
            "|000Silenced|            Acapella|          Kelis|            Acapella|\n",
            "|000Silenced|   I'm Not Invisible|      The Tease|   I'm Not Invisible|\n",
            "|000Silenced|Bounce (Feat NORE...|       MSTRKRFT|         Fist of God|\n",
            "|000Silenced|Don't Stop The Mu...|        Rihanna|Addicted 2 Bassli...|\n",
            "|000Silenced|               ObZen|      Meshuggah|               ObZen|\n",
            "|000Silenced|   Yama's Messengers|         Gojira|The Way of All Flesh|\n",
            "|000Silenced|On the Brink of E...|   Napalm Death|Time Waits For No...|\n",
            "|000Silenced|On the Brink of E...|   Napalm Death|Time Waits For No...|\n",
            "|000Silenced|        In Deference|   Napalm Death|      Smear Campaign|\n",
            "|000Silenced|      Post(?)organic|    Decapitated|Organic Hallucinosis|\n",
            "|000Silenced|        Mind Feeders|   Dom & Roland| No Strings Attached|\n",
            "|000Silenced|Necrosadistic War...|Cannibal Corpse|                Kill|\n",
            "|000Silenced|     Dance All Night|   Dom & Roland|          Chronology|\n",
            "|000Silenced|          Late Night|   Dom & Roland|          Chronology|\n",
            "|000Silenced|          Freak Seen|   Dom & Roland|          Chronology|\n",
            "|000Silenced|Paradrenasite (Hi...|   Dom & Roland|          Chronology|\n",
            "|000Silenced|               Rhino|   Dom & Roland|          Chronology|\n",
            "+-----------+--------------------+---------------+--------------------+\n",
            "only showing top 20 rows\n",
            "\n"
          ]
        }
      ],
      "source": [
        "listening_df.show()"
      ]
    },
    {
      "cell_type": "markdown",
      "metadata": {
        "id": "lo4Z5BrYIUmy"
      },
      "source": [
        "Top Musicians:"
      ]
    },
    {
      "cell_type": "code",
      "execution_count": null,
      "metadata": {
        "colab": {
          "base_uri": "https://localhost:8080/"
        },
        "id": "SvUhDFl1IVcw",
        "outputId": "a136bf75-80a5-4792-fa0f-cc84a79acf13"
      },
      "outputs": [
        {
          "name": "stdout",
          "output_type": "stream",
          "text": [
            "+--------------------+-----+\n",
            "|              artist|count|\n",
            "+--------------------+-----+\n",
            "|         David Bowie|64056|\n",
            "|          Kanye West|55423|\n",
            "|      Arctic Monkeys|52428|\n",
            "|         The Beatles|52420|\n",
            "|           Radiohead|47309|\n",
            "|                Muse|43664|\n",
            "|           Lady Gaga|41651|\n",
            "|             Rihanna|41594|\n",
            "|            Coldplay|36681|\n",
            "|        Taylor Swift|36527|\n",
            "|           blink-182|33204|\n",
            "|            Paramore|33026|\n",
            "|        Lana Del Rey|31666|\n",
            "|Florence + the Ma...|31635|\n",
            "|          The Smiths|30897|\n",
            "|         Biffy Clyro|30805|\n",
            "|        Foo Fighters|30366|\n",
            "|             Beyoncé|30050|\n",
            "|         Arcade Fire|29879|\n",
            "|           Daft Punk|28362|\n",
            "+--------------------+-----+\n",
            "\n"
          ]
        }
      ],
      "source": [
        "most_popular_artist = listening_df.select('artist').groupby('artist').agg(count('*').alias('count')).orderBy(desc('count')).limit(20)\n",
        "most_popular_artist.show()"
      ]
    },
    {
      "cell_type": "markdown",
      "source": [
        "TOP Tracks:"
      ],
      "metadata": {
        "id": "n8kN-eMS2I8g"
      }
    },
    {
      "cell_type": "code",
      "execution_count": null,
      "metadata": {
        "colab": {
          "base_uri": "https://localhost:8080/"
        },
        "id": "LWovkCHWIcCY",
        "outputId": "52880ef4-384d-40b0-f85f-af88d9989adf"
      },
      "outputs": [
        {
          "name": "stdout",
          "output_type": "stream",
          "text": [
            "+--------------------+-------------------+-----+\n",
            "|              artist|              track|count|\n",
            "+--------------------+-------------------+-----+\n",
            "|       Justin Bieber|              Sorry| 3381|\n",
            "|      Arctic Monkeys|   Do I Wanna Know?| 2865|\n",
            "|            Bon Iver|        Skinny Love| 2836|\n",
            "|                Zayn|         PILLOWTALK| 2701|\n",
            "|         The Killers|      Mr Brightside| 2690|\n",
            "|             Rihanna|               Work| 2646|\n",
            "|            Bastille|            Pompeii| 2606|\n",
            "|      Mumford & Sons|    Little Lion Man| 2520|\n",
            "|      Mumford & Sons|           The Cave| 2485|\n",
            "|       Justin Bieber|      Love Yourself| 2481|\n",
            "|       Justin Bieber|  What Do You Mean?| 2481|\n",
            "|      Ellie Goulding|        Starry Eyed| 2475|\n",
            "|        Zara Larsson|          Lush Life| 2456|\n",
            "|       Fleetwood Mac|    Go Your Own Way| 2448|\n",
            "|           Lady Gaga|        Bad Romance| 2424|\n",
            "|Florence + the Ma...|  Dog Days Are Over| 2420|\n",
            "|      Arctic Monkeys|          R U Mine?| 2420|\n",
            "|               Adele|Rolling in the Deep| 2382|\n",
            "|               Adele|              Hello| 2243|\n",
            "|          The Weeknd| Can't Feel My Face| 2207|\n",
            "+--------------------+-------------------+-----+\n",
            "\n"
          ]
        }
      ],
      "source": [
        "most_popular_track = listening_df.select('artist', 'track').groupby('artist', 'track').agg(count('*').alias('count')).orderBy(desc('count')).limit(20)\n",
        "most_popular_track.show()"
      ]
    },
    {
      "cell_type": "markdown",
      "metadata": {
        "id": "P0IBbGZ0J0sk"
      },
      "source": [
        "TOP Listeners:"
      ]
    },
    {
      "cell_type": "code",
      "execution_count": null,
      "metadata": {
        "colab": {
          "base_uri": "https://localhost:8080/"
        },
        "id": "d7wIBwQ1IcIo",
        "outputId": "a83092f0-99f9-46ca-8908-b36601b8a001"
      },
      "outputs": [
        {
          "name": "stdout",
          "output_type": "stream",
          "text": [
            "+---------------+-----+\n",
            "|        user_id|count|\n",
            "+---------------+-----+\n",
            "|         15step|  800|\n",
            "|10bobrevolution|  792|\n",
            "|        14M5K0T|  404|\n",
            "|  BandontheWall|  404|\n",
            "|    Kizztronice|  403|\n",
            "|           Faea|  402|\n",
            "|    FILdaslemon|  402|\n",
            "| BigManRestless|  402|\n",
            "|      El_Mantis|  402|\n",
            "|   Black__Fairy|  402|\n",
            "|      Flayer723|  402|\n",
            "|    Desecration|  402|\n",
            "|        jam-r0x|  402|\n",
            "|  carleesayshai|  402|\n",
            "|  incultojurgis|  402|\n",
            "|         Lokili|  402|\n",
            "|    mudvayne280|  402|\n",
            "|CrossProjection|  402|\n",
            "|         luke39|  402|\n",
            "|       FinalTom|  402|\n",
            "+---------------+-----+\n",
            "\n"
          ]
        }
      ],
      "source": [
        "user_lis_nmb = listening_df.select('user_id').groupby('user_id').agg(count('*').alias('count')).orderBy(desc('count')).limit(20)\n",
        "user_lis_nmb.show()"
      ]
    },
    {
      "cell_type": "markdown",
      "metadata": {
        "id": "7_jm7iSPHZhy"
      },
      "source": [
        "# Exploring Genres"
      ]
    },
    {
      "cell_type": "code",
      "execution_count": null,
      "metadata": {
        "colab": {
          "base_uri": "https://localhost:8080/"
        },
        "id": "gL8KCMxpGccT",
        "outputId": "1da313a8-8bd5-4475-adfe-1b161ac14ba3"
      },
      "outputs": [
        {
          "name": "stdout",
          "output_type": "stream",
          "text": [
            "root\n",
            " |-- artist: string (nullable = true)\n",
            " |-- genre: string (nullable = true)\n",
            "\n"
          ]
        }
      ],
      "source": [
        "genre_df = genre_df.na.drop()\n",
        "genre_df.printSchema()"
      ]
    },
    {
      "cell_type": "code",
      "execution_count": null,
      "metadata": {
        "colab": {
          "base_uri": "https://localhost:8080/"
        },
        "id": "m_iGO5SqGrRw",
        "outputId": "65f65732-05e0-427e-de4c-77aee276d11f"
      },
      "outputs": [
        {
          "name": "stdout",
          "output_type": "stream",
          "text": [
            "(138415, 2)\n"
          ]
        }
      ],
      "source": [
        "genre_df_shape = (genre_df.count(), len(genre_df.columns))\n",
        "print(genre_df_shape)"
      ]
    },
    {
      "cell_type": "markdown",
      "metadata": {
        "id": "WVx2268eJg-G"
      },
      "source": [
        "TOP Genres in the dataset:"
      ]
    },
    {
      "cell_type": "code",
      "execution_count": null,
      "metadata": {
        "colab": {
          "base_uri": "https://localhost:8080/"
        },
        "id": "RfRQ1vcPJowz",
        "outputId": "8322e321-4212-480a-930f-43b5a5a12a95"
      },
      "outputs": [
        {
          "name": "stdout",
          "output_type": "stream",
          "text": [
            "+--------------------+-----+\n",
            "|              artist|genre|\n",
            "+--------------------+-----+\n",
            "|                Muse| rock|\n",
            "|             Nirvana| rock|\n",
            "|            Bon Jovi| rock|\n",
            "|          The Police| rock|\n",
            "|                Kiss| rock|\n",
            "|       Guns N' Roses| rock|\n",
            "|         Rusted Root| rock|\n",
            "|Katrina and the W...|  pop|\n",
            "|         The Beatles| rock|\n",
            "|        Hall & Oates|  pop|\n",
            "|        Otis Redding| soul|\n",
            "|         Marvin Gaye| soul|\n",
            "|     The Cranberries| rock|\n",
            "|            Survivor| rock|\n",
            "|       Fleetwood Mac|blues|\n",
            "|           Radiohead| rock|\n",
            "|                Toto| rock|\n",
            "|                  U2| rock|\n",
            "|Creedence Clearwa...| rock|\n",
            "|                 REM| rock|\n",
            "+--------------------+-----+\n",
            "only showing top 20 rows\n",
            "\n"
          ]
        }
      ],
      "source": [
        "genre_df.show()"
      ]
    },
    {
      "cell_type": "code",
      "execution_count": null,
      "metadata": {
        "colab": {
          "base_uri": "https://localhost:8080/"
        },
        "id": "fUf9W2sYhmnW",
        "outputId": "8cc94a97-2d03-4329-e81d-1188b7916b91"
      },
      "outputs": [
        {
          "name": "stdout",
          "output_type": "stream",
          "text": [
            "+----------+-----+\n",
            "|     genre|count|\n",
            "+----------+-----+\n",
            "|      rock| 9066|\n",
            "|       pop| 6960|\n",
            "|electronic| 4410|\n",
            "|      jazz| 4400|\n",
            "|   hip hop| 4288|\n",
            "|     house| 3310|\n",
            "|      folk| 3217|\n",
            "|     dance| 2894|\n",
            "|      punk| 2661|\n",
            "|soundtrack| 2360|\n",
            "+----------+-----+\n",
            "\n"
          ]
        }
      ],
      "source": [
        "top_genre_bands = genre_df.select('genre').groupby('genre').agg(count('*').alias('count')).orderBy(desc('count')).limit(10)\n",
        "top_genre_bands.show()"
      ]
    },
    {
      "cell_type": "markdown",
      "metadata": {
        "id": "cEweo3hAHdFR"
      },
      "source": [
        "# User Listening Habits"
      ]
    },
    {
      "cell_type": "code",
      "execution_count": null,
      "metadata": {
        "colab": {
          "base_uri": "https://localhost:8080/"
        },
        "id": "uNuerdyqHGHq",
        "outputId": "d2a5551d-2f90-4827-aa06-c98727ab08a4"
      },
      "outputs": [
        {
          "name": "stdout",
          "output_type": "stream",
          "text": [
            "+------------+-----------+--------------------+--------------------+--------------------+\n",
            "|      artist|    user_id|               track|               album|               genre|\n",
            "+------------+-----------+--------------------+--------------------+--------------------+\n",
            "|    Jessie J|000Silenced|           Price Tag|         Who You Are| Ariana Grande & ...|\n",
            "|    Jessie J|000Silenced|           Price Tag|         Who You Are| Jhene Aiko & Rixton|\n",
            "|    Jessie J|000Silenced|           Price Tag|         Who You Are| Nicki Minaj & Ar...|\n",
            "|    Jessie J|000Silenced|           Price Tag|         Who You Are|                 pop|\n",
            "|    Jessie J|000Silenced|Price Tag (Acoust...|           Price Tag| Ariana Grande & ...|\n",
            "|    Jessie J|000Silenced|Price Tag (Acoust...|           Price Tag| Jhene Aiko & Rixton|\n",
            "|    Jessie J|000Silenced|Price Tag (Acoust...|           Price Tag| Nicki Minaj & Ar...|\n",
            "|    Jessie J|000Silenced|Price Tag (Acoust...|           Price Tag|                 pop|\n",
            "|       Robyn|000Silenced|Be Mine! (Ballad ...|            Be Mine!|                 pop|\n",
            "|       Kelis|000Silenced|            Acapella|            Acapella|                 pop|\n",
            "|   The Tease|000Silenced|   I'm Not Invisible|   I'm Not Invisible|             hip hop|\n",
            "|    MSTRKRFT|000Silenced|Bounce (Feat NORE...|         Fist of God|          electronic|\n",
            "|     Rihanna|000Silenced|Don't Stop The Mu...|Addicted 2 Bassli...|                 SZA|\n",
            "|     Rihanna|000Silenced|Don't Stop The Mu...|Addicted 2 Bassli...| Paul McCartney &...|\n",
            "|     Rihanna|000Silenced|Don't Stop The Mu...|Addicted 2 Bassli...|          Kanye West|\n",
            "|     Rihanna|000Silenced|Don't Stop The Mu...|Addicted 2 Bassli...| Kanye West & Pau...|\n",
            "|     Rihanna|000Silenced|Don't Stop The Mu...|Addicted 2 Bassli...|                 pop|\n",
            "|   Meshuggah|000Silenced|               ObZen|               ObZen|               metal|\n",
            "|      Gojira|000Silenced|   Yama's Messengers|The Way of All Flesh|               metal|\n",
            "|Napalm Death|000Silenced|On the Brink of E...|Time Waits For No...|           grindcore|\n",
            "+------------+-----------+--------------------+--------------------+--------------------+\n",
            "only showing top 20 rows\n",
            "\n"
          ]
        }
      ],
      "source": [
        "df = listening_df.join(genre_df, how = 'inner', on = ['artist'])\n",
        "df.show()"
      ]
    },
    {
      "cell_type": "markdown",
      "source": [
        "Biggest fans of pop music:"
      ],
      "metadata": {
        "id": "_xjPyLu73x3F"
      }
    },
    {
      "cell_type": "code",
      "execution_count": null,
      "metadata": {
        "colab": {
          "base_uri": "https://localhost:8080/"
        },
        "id": "d6m5FTABgSB0",
        "outputId": "83fdfdac-871e-454f-e5e2-580578233f98"
      },
      "outputs": [
        {
          "name": "stdout",
          "output_type": "stream",
          "text": [
            "+---------------+-----+\n",
            "|        user_id|count|\n",
            "+---------------+-----+\n",
            "|        01Green|  496|\n",
            "|      momousagi|  400|\n",
            "|          mrpsb|  400|\n",
            "|   BlueKnockOut|  378|\n",
            "|    musicboy80s|  376|\n",
            "|  incultojurgis|  374|\n",
            "| ElektricOrchid|  370|\n",
            "|foreign_fanatic|  350|\n",
            "|   Kevin_Soutar|  346|\n",
            "|  landrover2171|  301|\n",
            "+---------------+-----+\n",
            "\n"
          ]
        }
      ],
      "source": [
        "pop_fans = df.select('user_id').filter(df.genre == 'pop').groupby('user_id').agg(count('*').alias('count')).orderBy(desc('count')).limit(10)\n",
        "pop_fans.show()"
      ]
    },
    {
      "cell_type": "markdown",
      "source": [
        "TOP genres based on number of listenings:"
      ],
      "metadata": {
        "id": "DpflleWy3_4f"
      }
    },
    {
      "cell_type": "code",
      "execution_count": null,
      "metadata": {
        "colab": {
          "base_uri": "https://localhost:8080/"
        },
        "id": "LngZAe7ZgRh6",
        "outputId": "6887b637-ee0e-4b6c-d43c-1c03b3527f22"
      },
      "outputs": [
        {
          "name": "stdout",
          "output_type": "stream",
          "text": [
            "+----------+-------+\n",
            "|     genre|  count|\n",
            "+----------+-------+\n",
            "|      rock|2691934|\n",
            "|       pop|1544747|\n",
            "|electronic| 551509|\n",
            "|   hip hop| 532984|\n",
            "|      folk| 438174|\n",
            "|indie rock| 431439|\n",
            "|      punk| 380915|\n",
            "|       r&b| 344101|\n",
            "|     metal| 208107|\n",
            "|     indie| 206726|\n",
            "+----------+-------+\n",
            "\n"
          ]
        }
      ],
      "source": [
        "top_genre_listen = df.select('genre').groupby('genre').agg(count('*').alias('count')).orderBy(desc('count')).limit(10)\n",
        "top_genre_listen.show()"
      ]
    },
    {
      "cell_type": "markdown",
      "metadata": {
        "id": "A_mjlu8SjhsL"
      },
      "source": [
        "Genre choice for each user:"
      ]
    },
    {
      "cell_type": "code",
      "execution_count": null,
      "metadata": {
        "id": "v9XsTG1ljl_p"
      },
      "outputs": [],
      "source": [
        "user_genre = df.select('user_id', 'genre').groupby('user_id', 'genre').agg(count('*').alias('count'))"
      ]
    },
    {
      "cell_type": "code",
      "execution_count": null,
      "metadata": {
        "colab": {
          "base_uri": "https://localhost:8080/"
        },
        "id": "zUbpB_GqmhWA",
        "outputId": "0f3ab8a5-f6ca-43c6-beb5-acef9d363df2"
      },
      "outputs": [
        {
          "name": "stdout",
          "output_type": "stream",
          "text": [
            "+---------------+-----------+\n",
            "|        user_id|      genre|\n",
            "+---------------+-----------+\n",
            "|      --Shinn--|       rock|\n",
            "|       --ollz--|       rock|\n",
            "|     -Amnesiac-|      metal|\n",
            "|         -Bish-|       rock|\n",
            "|        -Danni-|       rock|\n",
            "|          -DeWp|    hip hop|\n",
            "|      -Faction-|       rock|\n",
            "|-February-Star-|       rock|\n",
            "|        -Gemma-|british pop|\n",
            "|   -Gingergirl-|        pop|\n",
            "|        -Hazel-|   synthpop|\n",
            "|        -Heiko-| electronic|\n",
            "|         -Katie|      lo-fi|\n",
            "|      -Krystal-|       rock|\n",
            "|         -Mark-| indie rock|\n",
            "|       -Mullet-|  metalcore|\n",
            "|          -Robs|       rock|\n",
            "| -SleepingStar-|black metal|\n",
            "|      -Stifler-|       rock|\n",
            "|  -Toxic-Waste-|  aggrotech|\n",
            "+---------------+-----------+\n",
            "only showing top 20 rows\n",
            "\n"
          ]
        }
      ],
      "source": [
        "user_top_genre = user_genre.groupby('user_id').agg(max(struct(col('count'), col('genre'))).alias('max')).select(col('user_id'), col('max.genre'))\n",
        "user_top_genre.show()"
      ]
    },
    {
      "cell_type": "markdown",
      "source": [
        "Track Choice for each user"
      ],
      "metadata": {
        "id": "R2mhm5mf_Vqv"
      }
    },
    {
      "cell_type": "code",
      "execution_count": 59,
      "metadata": {
        "id": "np31_bO2Ib7e"
      },
      "outputs": [],
      "source": [
        "most_popular_track = listening_df.select('user_id', 'artist', 'track').groupby('user_id', 'artist', 'track').agg(count('*').alias('count')).orderBy(desc('count')).limit(20)"
      ]
    },
    {
      "cell_type": "code",
      "execution_count": null,
      "metadata": {
        "id": "CH61YGyFSGgA"
      },
      "outputs": [],
      "source": [
        "window_spec = Window.partitionBy('user_id', 'artist', 'track').orderBy(desc('count'))\n",
        "user_most_played_tracks = most_popular_track.withColumn('rank', row_number().over(window_spec)).filter(col(\"rank\") == 1).orderBy(desc('count'))"
      ]
    },
    {
      "cell_type": "code",
      "execution_count": 62,
      "metadata": {
        "colab": {
          "base_uri": "https://localhost:8080/"
        },
        "id": "aFyLSEb0Ibqe",
        "outputId": "9f2cd8b2-ac73-4685-d09e-885e8ae81691"
      },
      "outputs": [
        {
          "output_type": "stream",
          "name": "stdout",
          "text": [
            "+---------------+------------------+--------------------+\n",
            "|        user_id|            artist|               track|\n",
            "+---------------+------------------+--------------------+\n",
            "|   graphic_jack|         Bluechest|         Saturn Skit|\n",
            "|   blackdbmusic|        Pitch Twit|Bulletproof Feat ...|\n",
            "|         mtrapr|     Junior Murvin|    Police & Thieves|\n",
            "|          Zoecb|             Raign|  When It's All Over|\n",
            "|         CGholy|         BABYMETAL|    シンコペーション|\n",
            "|     gethmyster|        Simply Red|The Air That I Br...|\n",
            "|      MrBennish|             Björk|         Hyperballad|\n",
            "|LEtranger-amant|    Regina Spektor| The Sword & the Pen|\n",
            "|      hitozutsu|    Ellie Goulding|   Dead in the Water|\n",
            "|    puta-mimosa|   Michael Jackson|You Can Cry On My...|\n",
            "|lesviolonsivres|   Alice in Chains|            Nutshell|\n",
            "|      AdamShiel|     Joanna Newsom|                 '81|\n",
            "| AgainWeRise666|Coheed and Cambria|       Time Consumer|\n",
            "|    SkirtAsATop|       Cheryl Cole|Better to Lie (fe...|\n",
            "|    THA_GENERAL|           Lee'Tal|Lee'tal-God a bac...|\n",
            "|          delga|    Sara Bareilles|        I Choose You|\n",
            "|   rosiemantell|       Julian Cope|World Shut Your M...|\n",
            "|      iLostDead|       MYTH & ROID|                 LLL|\n",
            "|         iRule_|               Him|Right Here in My ...|\n",
            "|       Damian__|            Dalida|   Parlez-Moi De Lui|\n",
            "+---------------+------------------+--------------------+\n",
            "\n"
          ]
        }
      ],
      "source": [
        "user_most_played_tracks.select('user_id', 'artist', 'track').show()"
      ]
    },
    {
      "cell_type": "markdown",
      "metadata": {
        "id": "iDDxr4aznAT8"
      },
      "source": [
        "Distribution of pop, rock, metal and hip hop singers in the dataset"
      ]
    },
    {
      "cell_type": "code",
      "execution_count": null,
      "metadata": {
        "colab": {
          "base_uri": "https://localhost:8080/"
        },
        "id": "mzQE2GA0mhTi",
        "outputId": "c808a703-10f5-4e8a-c59f-72ec6f7c811b"
      },
      "outputs": [
        {
          "name": "stdout",
          "output_type": "stream",
          "text": [
            "+-------+-------+\n",
            "|  genre|  count|\n",
            "+-------+-------+\n",
            "|    pop|1544747|\n",
            "|hip hop| 532984|\n",
            "|  metal| 208107|\n",
            "|   rock|2691934|\n",
            "+-------+-------+\n",
            "\n"
          ]
        }
      ],
      "source": [
        "genre_singers = df.select('genre').filter((col('genre') == 'pop')|(col('genre') == 'rock')|(col('genre') == 'metal')|(col('genre') == 'hip hop')).groupby('genre').agg(count('genre').alias('count'))\n",
        "genre_singers.show()"
      ]
    },
    {
      "cell_type": "code",
      "execution_count": null,
      "metadata": {
        "id": "T6Mi5wb0sHBw"
      },
      "outputs": [],
      "source": [
        "genre_list = genre_singers.collect()"
      ]
    },
    {
      "cell_type": "code",
      "execution_count": 67,
      "metadata": {
        "id": "eu88hZrlsU09"
      },
      "outputs": [],
      "source": [
        "labels = [row['genre'] for row in genre_list]\n",
        "counts = [row['count'] for row in genre_list]"
      ]
    },
    {
      "cell_type": "code",
      "execution_count": 68,
      "metadata": {
        "colab": {
          "base_uri": "https://localhost:8080/"
        },
        "id": "7mdvI9O0sqET",
        "outputId": "e4672af9-fc0d-4e0c-a5a9-2e84c0d6fe45"
      },
      "outputs": [
        {
          "output_type": "stream",
          "name": "stdout",
          "text": [
            "['pop', 'hip hop', 'metal', 'rock']\n",
            "[1544747, 532984, 208107, 2691934]\n"
          ]
        }
      ],
      "source": [
        "print(labels)\n",
        "print(counts)"
      ]
    },
    {
      "cell_type": "code",
      "source": [
        "# Define a color palette for the bars\n",
        "color_palette = ['#1f77b4', '#ff7f0e', '#2ca02c', '#d62728', '#9467bd']\n",
        "\n",
        "# Create the bar chart with the defined color palette\n",
        "plt.bar(labels, counts, color=color_palette)\n",
        "\n",
        "plt.xlabel('')\n",
        "plt.ylabel('')\n",
        "plt.title('Genre Preferences (# of listenings)')\n",
        "plt.xticks(rotation=45)  # Rotate x-axis labels if needed\n",
        "\n",
        "# Add data labels to the bars with comma formatting\n",
        "for i, count in enumerate(counts):\n",
        "    plt.text(i, count, f'{count:,}', ha='center', va='bottom')\n",
        "\n",
        "# Remove y-axis ticks and labels\n",
        "plt.tick_params(axis='y', which='both', left=False, labelleft=False)\n",
        "\n",
        "plt.show()"
      ],
      "metadata": {
        "colab": {
          "base_uri": "https://localhost:8080/",
          "height": 485
        },
        "id": "jNkFZVLl4zW6",
        "outputId": "460b7ae8-2a87-4a4f-a6bd-7c21ce5b3d39"
      },
      "execution_count": 85,
      "outputs": [
        {
          "output_type": "display_data",
          "data": {
            "text/plain": [
              "<Figure size 640x480 with 1 Axes>"
            ],
            "image/png": "[encoded data removed]"
          },
          "metadata": {}
        }
      ]
    }
  ],
  "metadata": {
    "colab": {
      "provenance": []
    },
    "kernelspec": {
      "display_name": "Python 3",
      "name": "python3"
    },
    "language_info": {
      "name": "python"
    }
  },
  "nbformat": 4,
  "nbformat_minor": 0
}